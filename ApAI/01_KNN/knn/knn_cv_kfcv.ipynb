{
 "cells": [
  {
   "cell_type": "code",
   "execution_count": 21,
   "metadata": {},
   "outputs": [],
   "source": [
    "import numpy as np\n",
    "import pandas as pd\n",
    "import matplotlib.pyplot as plt\n",
    "from sklearn.model_selection import train_test_split\n",
    "from sklearn.neighbors import KNeighborsClassifier\n",
    "from sklearn.metrics import accuracy_score\n",
    "from collections import Counter\n",
    "from sklearn.metrics import accuracy_score\n",
    "from sklearn.model_selection import cross_validate\n",
    "from sklearn.model_selection import cross_val_score"
   ]
  },
  {
   "cell_type": "code",
   "execution_count": 3,
   "metadata": {},
   "outputs": [
    {
     "name": "stdout",
     "output_type": "stream",
     "text": [
      "          x         y  class\n",
      "0  0.700335 -0.247068    0.0\n",
      "1 -3.950019  2.740080    1.0\n",
      "2  0.150222 -2.157638    1.0\n",
      "3 -1.672050 -0.941519    1.0\n",
      "4  2.560483 -1.846577    1.0\n"
     ]
    }
   ],
   "source": [
    "# Loading the Data\n",
    "names = ['x', 'y', 'class']\n",
    "df = pd.read_csv('./demo_data/3.concertriccir2.csv', header=None, names=names)\n",
    "print(df.head())\n",
    "\n",
    "# Data specifyin in to Matrix X and Y detailed\n",
    "X = np.array(df.iloc[:, 0:2])\n",
    "y = np.array(df['class'])"
   ]
  },
  {
   "cell_type": "markdown",
   "metadata": {},
   "source": [
    "# Simple Cross Validation"
   ]
  },
  {
   "cell_type": "code",
   "execution_count": 4,
   "metadata": {},
   "outputs": [
    {
     "name": "stdout",
     "output_type": "stream",
     "text": [
      "X_train, X_test:  (350, 2) (150, 2)\n",
      "y_train, y_test:  (350,) (150,)\n",
      "\n",
      "\n",
      "X_tr, X_cv:  (245, 2) (105, 2)\n",
      "y_tr, y_cv:  (245,) (105,)\n"
     ]
    }
   ],
   "source": [
    "# Spliting the data into Train data and Test data.\n",
    "X_train, X_test, y_train, y_test = train_test_split(X, y, test_size=0.3, random_state=0)\n",
    "\n",
    "print(\"X_train, X_test: \",X_train.shape, X_test.shape)\n",
    "print(\"y_train, y_test: \",y_train.shape, y_test.shape)\n",
    "\n",
    "print(\"\\n\")\n",
    "\n",
    "#Spliting the Exisiting Training data in to Train and Simple Corss Validation data segments.\n",
    "X_tr, X_cv, y_tr, y_cv = train_test_split(X_train, y_train, test_size=0.3)\n",
    "print(\"X_tr, X_cv: \", X_tr.shape, X_cv.shape)\n",
    "print(\"y_tr, y_cv: \", y_tr.shape, y_cv.shape)"
   ]
  },
  {
   "cell_type": "code",
   "execution_count": 16,
   "metadata": {},
   "outputs": [
    {
     "name": "stdout",
     "output_type": "stream",
     "text": [
      "\n",
      " CV Accuracy for k = 1 is 91%\n",
      "\n",
      " CV Accuracy for k = 3 is 92%\n",
      "\n",
      " CV Accuracy for k = 5 is 88%\n",
      "\n",
      " CV Accuracy for k = 7 is 89%\n",
      "\n",
      " CV Accuracy for k = 9 is 89%\n",
      "\n",
      " CV Accuracy for k = 11 is 87%\n",
      "\n",
      " CV Accuracy for k = 13 is 87%\n",
      "\n",
      " CV Accuracy for k = 15 is 87%\n",
      "\n",
      " CV Accuracy for k = 17 is 87%\n",
      "\n",
      " CV Accuracy for k = 19 is 84%\n",
      "\n",
      " CV Accuracy for k = 21 is 81%\n",
      "\n",
      " CV Accuracy for k = 23 is 83%\n",
      "\n",
      " CV Accuracy for k = 25 is 80%\n",
      "\n",
      " CV Accuracy for k = 27 is 78%\n",
      "\n",
      " CV Accuracy for k = 29 is 76%\n",
      "\n",
      " CV Accuracy for k = 31 is 72%\n",
      "\n",
      " CV Accuracy for k = 33 is 72%\n",
      "\n",
      " CV Accuracy for k = 35 is 70%\n",
      "\n",
      " CV Accuracy for k = 37 is 68%\n",
      "\n",
      " CV Accuracy for k = 39 is 69%\n",
      "\n",
      " CV Accuracy for k = 41 is 69%\n",
      "\n",
      " CV Accuracy for k = 43 is 67%\n",
      "\n",
      " CV Accuracy for k = 45 is 65%\n",
      "\n",
      " CV Accuracy for k = 47 is 63%\n",
      "\n",
      " CV Accuracy for k = 49 is 62%\n"
     ]
    }
   ],
   "source": [
    "for i in range(1,50,2):\n",
    "    knn = KNeighborsClassifier(n_neighbors=i)\n",
    "    knn.fit(X_tr, y_tr)\n",
    "    pred = knn.predict(X_cv)\n",
    "    acc = accuracy_score(y_cv, pred, normalize=True)*float(100)\n",
    "    print('\\n CV Accuracy for k = %d is %d%%'  % (i, acc))"
   ]
  },
  {
   "cell_type": "code",
   "execution_count": 17,
   "metadata": {},
   "outputs": [
    {
     "name": "stdout",
     "output_type": "stream",
     "text": [
      "\n",
      "****Test accuracy for k = 1 is 90%\n"
     ]
    }
   ],
   "source": [
    "knn = KNeighborsClassifier(n_neighbors=1)\n",
    "knn.fit(X_tr, y_tr)\n",
    "pred = knn.predict(X_test)\n",
    "acc = accuracy_score(y_test, pred, normalize=True)*float(100)\n",
    "print('\\n****Test accuracy for k = 1 is %d%%' % (acc))"
   ]
  },
  {
   "cell_type": "markdown",
   "metadata": {},
   "source": [
    "# K[10]-Fold Cross Validation"
   ]
  },
  {
   "cell_type": "code",
   "execution_count": 25,
   "metadata": {},
   "outputs": [
    {
     "name": "stdout",
     "output_type": "stream",
     "text": [
      "[0.8810652173913043, 0.8810797101449275, 0.852731884057971, 0.8570797101449275, 0.8203985507246377, 0.8408985507246378, 0.8375942028985508, 0.8088985507246378, 0.796731884057971, 0.776731884057971, 0.7723840579710145, 0.7476884057971015, 0.7231739130434783, 0.7068260869565217, 0.6863115942028986, 0.669963768115942, 0.6452681159420289, 0.632572463768116, 0.6202246376811595, 0.5951811594202899, 0.5913623188405798, 0.5746666666666667, 0.5581521739130435, 0.5581521739130435, 0.5541521739130435]\n"
     ]
    }
   ],
   "source": [
    "myList = list(range(1,50))\n",
    "neighbours = list(filter(lambda x: x%2 != 0,myList))\n",
    "\n",
    "cv_scores = []\n",
    "\n",
    "for k in neighbours:\n",
    "    knn = KNeighborsClassifier(n_neighbors=k)\n",
    "    scores = cross_val_score(knn, X_tr, y_tr, cv=10, scoring='accuracy')\n",
    "    cv_scores.append(scores.mean())\n",
    "    \n",
    "print(cv_scores)"
   ]
  },
  {
   "cell_type": "code",
   "execution_count": 29,
   "metadata": {},
   "outputs": [
    {
     "name": "stdout",
     "output_type": "stream",
     "text": [
      "The Optimal Number of Neighbours is 3\n"
     ]
    }
   ],
   "source": [
    "#Changing to MissClassification Errors\n",
    "MSE = [1-x for x in cv_scores]\n",
    "\n",
    "#Determining the Best K\n",
    "optimal_k = neighbours[MSE.index(min(MSE))]\n",
    "print('The Optimal Number of Neighbours is %d' % optimal_k)"
   ]
  },
  {
   "cell_type": "code",
   "execution_count": 32,
   "metadata": {},
   "outputs": [
    {
     "data": {
      "image/png": "[encoded data removed]",
      "text/plain": [
       "<Figure size 432x288 with 1 Axes>"
      ]
     },
     "metadata": {
      "needs_background": "light"
     },
     "output_type": "display_data"
    },
    {
     "name": "stdout",
     "output_type": "stream",
     "text": [
      "the misclassification error for each k value is :  [0.119 0.119 0.147 0.143 0.18  0.159 0.162 0.191 0.203 0.223 0.228 0.252\n",
      " 0.277 0.293 0.314 0.33  0.355 0.367 0.38  0.405 0.409 0.425 0.442 0.442\n",
      " 0.446]\n"
     ]
    }
   ],
   "source": [
    "#Plot MisscalssificationError vs K\n",
    "plt.plot(neighbours, MSE)\n",
    "for xy in zip(neighbours, np.round(MSE,3)):\n",
    "    plt.annotate('(%s, %s)' % xy, xy=xy, textcoords='data')\n",
    "\n",
    "plt.xlabel('Number of Neighbors K')\n",
    "plt.ylabel('Misclassification Error')\n",
    "plt.show()\n",
    "\n",
    "print(\"the misclassification error for each k value is : \", np.round(MSE,3))"
   ]
  },
  {
   "cell_type": "code",
   "execution_count": 37,
   "metadata": {},
   "outputs": [
    {
     "name": "stdout",
     "output_type": "stream",
     "text": [
      "\n",
      "The accuracy of the knn classifier for k = 3 is 88.000000%\n"
     ]
    }
   ],
   "source": [
    "knn_optimal = KNeighborsClassifier(n_neighbors=3)\n",
    "\n",
    "#fitting the model\n",
    "knn_optimal.fit(X_tr, y_tr)\n",
    "\n",
    "#predict the Response \n",
    "pred = knn_optimal.predict(X_test)\n",
    "\n",
    "#Evaluate Accuracy\n",
    "acc = accuracy_score(y_test, pred)*float(100)\n",
    "print('\\nThe accuracy of the knn classifier for k = %d is %f%%' % (optimal_k, acc))"
   ]
  },
  {
   "cell_type": "code",
   "execution_count": null,
   "metadata": {},
   "outputs": [],
   "source": []
  }
 ],
 "metadata": {
  "kernelspec": {
   "display_name": "Python 3",
   "language": "python",
   "name": "python3"
  },
  "language_info": {
   "codemirror_mode": {
    "name": "ipython",
    "version": 3
   },
   "file_extension": ".py",
   "mimetype": "text/x-python",
   "name": "python",
   "nbconvert_exporter": "python",
   "pygments_lexer": "ipython3",
   "version": "3.7.1"
  }
 },
 "nbformat": 4,
 "nbformat_minor": 2
}
